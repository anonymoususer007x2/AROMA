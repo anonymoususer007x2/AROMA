{
  "cells": [
    {
      "cell_type": "code",
      "execution_count": null,
      "id": "0f1e6939",
      "metadata": {
        "colab": {
          "base_uri": "https://localhost:8080/"
        },
        "id": "0f1e6939",
        "outputId": "21198c2e-c1ff-48a9-a1cb-771ac75123ed"
      },
      "outputs": [
        {
          "output_type": "stream",
          "name": "stdout",
          "text": [
            "Requirement already satisfied: openai in /usr/local/lib/python3.10/dist-packages (1.30.5)\n",
            "Requirement already satisfied: anyio<5,>=3.5.0 in /usr/local/lib/python3.10/dist-packages (from openai) (3.7.1)\n",
            "Requirement already satisfied: distro<2,>=1.7.0 in /usr/lib/python3/dist-packages (from openai) (1.7.0)\n",
            "Requirement already satisfied: httpx<1,>=0.23.0 in /usr/local/lib/python3.10/dist-packages (from openai) (0.27.0)\n",
            "Requirement already satisfied: pydantic<3,>=1.9.0 in /usr/local/lib/python3.10/dist-packages (from openai) (2.7.1)\n",
            "Requirement already satisfied: sniffio in /usr/local/lib/python3.10/dist-packages (from openai) (1.3.1)\n",
            "Requirement already satisfied: tqdm>4 in /usr/local/lib/python3.10/dist-packages (from openai) (4.66.4)\n",
            "Requirement already satisfied: typing-extensions<5,>=4.7 in /usr/local/lib/python3.10/dist-packages (from openai) (4.11.0)\n",
            "Requirement already satisfied: idna>=2.8 in /usr/local/lib/python3.10/dist-packages (from anyio<5,>=3.5.0->openai) (3.7)\n",
            "Requirement already satisfied: exceptiongroup in /usr/local/lib/python3.10/dist-packages (from anyio<5,>=3.5.0->openai) (1.2.1)\n",
            "Requirement already satisfied: certifi in /usr/local/lib/python3.10/dist-packages (from httpx<1,>=0.23.0->openai) (2024.2.2)\n",
            "Requirement already satisfied: httpcore==1.* in /usr/local/lib/python3.10/dist-packages (from httpx<1,>=0.23.0->openai) (1.0.5)\n",
            "Requirement already satisfied: h11<0.15,>=0.13 in /usr/local/lib/python3.10/dist-packages (from httpcore==1.*->httpx<1,>=0.23.0->openai) (0.14.0)\n",
            "Requirement already satisfied: annotated-types>=0.4.0 in /usr/local/lib/python3.10/dist-packages (from pydantic<3,>=1.9.0->openai) (0.7.0)\n",
            "Requirement already satisfied: pydantic-core==2.18.2 in /usr/local/lib/python3.10/dist-packages (from pydantic<3,>=1.9.0->openai) (2.18.2)\n",
            "Requirement already satisfied: datasets in /usr/local/lib/python3.10/dist-packages (2.19.1)\n",
            "Requirement already satisfied: filelock in /usr/local/lib/python3.10/dist-packages (from datasets) (3.14.0)\n",
            "Requirement already satisfied: numpy>=1.17 in /usr/local/lib/python3.10/dist-packages (from datasets) (1.25.2)\n",
            "Requirement already satisfied: pyarrow>=12.0.0 in /usr/local/lib/python3.10/dist-packages (from datasets) (14.0.2)\n",
            "Requirement already satisfied: pyarrow-hotfix in /usr/local/lib/python3.10/dist-packages (from datasets) (0.6)\n",
            "Requirement already satisfied: dill<0.3.9,>=0.3.0 in /usr/local/lib/python3.10/dist-packages (from datasets) (0.3.8)\n",
            "Requirement already satisfied: pandas in /usr/local/lib/python3.10/dist-packages (from datasets) (2.0.3)\n",
            "Requirement already satisfied: requests>=2.19.0 in /usr/local/lib/python3.10/dist-packages (from datasets) (2.31.0)\n",
            "Requirement already satisfied: tqdm>=4.62.1 in /usr/local/lib/python3.10/dist-packages (from datasets) (4.66.4)\n",
            "Requirement already satisfied: xxhash in /usr/local/lib/python3.10/dist-packages (from datasets) (3.4.1)\n",
            "Requirement already satisfied: multiprocess in /usr/local/lib/python3.10/dist-packages (from datasets) (0.70.16)\n",
            "Requirement already satisfied: fsspec[http]<=2024.3.1,>=2023.1.0 in /usr/local/lib/python3.10/dist-packages (from datasets) (2023.6.0)\n",
            "Requirement already satisfied: aiohttp in /usr/local/lib/python3.10/dist-packages (from datasets) (3.9.5)\n",
            "Requirement already satisfied: huggingface-hub>=0.21.2 in /usr/local/lib/python3.10/dist-packages (from datasets) (0.23.1)\n",
            "Requirement already satisfied: packaging in /usr/local/lib/python3.10/dist-packages (from datasets) (24.0)\n",
            "Requirement already satisfied: pyyaml>=5.1 in /usr/local/lib/python3.10/dist-packages (from datasets) (6.0.1)\n",
            "Requirement already satisfied: aiosignal>=1.1.2 in /usr/local/lib/python3.10/dist-packages (from aiohttp->datasets) (1.3.1)\n",
            "Requirement already satisfied: attrs>=17.3.0 in /usr/local/lib/python3.10/dist-packages (from aiohttp->datasets) (23.2.0)\n",
            "Requirement already satisfied: frozenlist>=1.1.1 in /usr/local/lib/python3.10/dist-packages (from aiohttp->datasets) (1.4.1)\n",
            "Requirement already satisfied: multidict<7.0,>=4.5 in /usr/local/lib/python3.10/dist-packages (from aiohttp->datasets) (6.0.5)\n",
            "Requirement already satisfied: yarl<2.0,>=1.0 in /usr/local/lib/python3.10/dist-packages (from aiohttp->datasets) (1.9.4)\n",
            "Requirement already satisfied: async-timeout<5.0,>=4.0 in /usr/local/lib/python3.10/dist-packages (from aiohttp->datasets) (4.0.3)\n",
            "Requirement already satisfied: typing-extensions>=3.7.4.3 in /usr/local/lib/python3.10/dist-packages (from huggingface-hub>=0.21.2->datasets) (4.11.0)\n",
            "Requirement already satisfied: charset-normalizer<4,>=2 in /usr/local/lib/python3.10/dist-packages (from requests>=2.19.0->datasets) (3.3.2)\n",
            "Requirement already satisfied: idna<4,>=2.5 in /usr/local/lib/python3.10/dist-packages (from requests>=2.19.0->datasets) (3.7)\n",
            "Requirement already satisfied: urllib3<3,>=1.21.1 in /usr/local/lib/python3.10/dist-packages (from requests>=2.19.0->datasets) (2.0.7)\n",
            "Requirement already satisfied: certifi>=2017.4.17 in /usr/local/lib/python3.10/dist-packages (from requests>=2.19.0->datasets) (2024.2.2)\n",
            "Requirement already satisfied: python-dateutil>=2.8.2 in /usr/local/lib/python3.10/dist-packages (from pandas->datasets) (2.8.2)\n",
            "Requirement already satisfied: pytz>=2020.1 in /usr/local/lib/python3.10/dist-packages (from pandas->datasets) (2023.4)\n",
            "Requirement already satisfied: tzdata>=2022.1 in /usr/local/lib/python3.10/dist-packages (from pandas->datasets) (2024.1)\n",
            "Requirement already satisfied: six>=1.5 in /usr/local/lib/python3.10/dist-packages (from python-dateutil>=2.8.2->pandas->datasets) (1.16.0)\n",
            "Requirement already satisfied: anthropic in /usr/local/lib/python3.10/dist-packages (0.28.0)\n",
            "Requirement already satisfied: anyio<5,>=3.5.0 in /usr/local/lib/python3.10/dist-packages (from anthropic) (3.7.1)\n",
            "Requirement already satisfied: distro<2,>=1.7.0 in /usr/lib/python3/dist-packages (from anthropic) (1.7.0)\n",
            "Requirement already satisfied: httpx<1,>=0.23.0 in /usr/local/lib/python3.10/dist-packages (from anthropic) (0.27.0)\n",
            "Requirement already satisfied: jiter<1,>=0.4.0 in /usr/local/lib/python3.10/dist-packages (from anthropic) (0.4.0)\n",
            "Requirement already satisfied: pydantic<3,>=1.9.0 in /usr/local/lib/python3.10/dist-packages (from anthropic) (2.7.1)\n",
            "Requirement already satisfied: sniffio in /usr/local/lib/python3.10/dist-packages (from anthropic) (1.3.1)\n",
            "Requirement already satisfied: tokenizers>=0.13.0 in /usr/local/lib/python3.10/dist-packages (from anthropic) (0.19.1)\n",
            "Requirement already satisfied: typing-extensions<5,>=4.7 in /usr/local/lib/python3.10/dist-packages (from anthropic) (4.11.0)\n",
            "Requirement already satisfied: idna>=2.8 in /usr/local/lib/python3.10/dist-packages (from anyio<5,>=3.5.0->anthropic) (3.7)\n",
            "Requirement already satisfied: exceptiongroup in /usr/local/lib/python3.10/dist-packages (from anyio<5,>=3.5.0->anthropic) (1.2.1)\n",
            "Requirement already satisfied: certifi in /usr/local/lib/python3.10/dist-packages (from httpx<1,>=0.23.0->anthropic) (2024.2.2)\n",
            "Requirement already satisfied: httpcore==1.* in /usr/local/lib/python3.10/dist-packages (from httpx<1,>=0.23.0->anthropic) (1.0.5)\n",
            "Requirement already satisfied: h11<0.15,>=0.13 in /usr/local/lib/python3.10/dist-packages (from httpcore==1.*->httpx<1,>=0.23.0->anthropic) (0.14.0)\n",
            "Requirement already satisfied: annotated-types>=0.4.0 in /usr/local/lib/python3.10/dist-packages (from pydantic<3,>=1.9.0->anthropic) (0.7.0)\n",
            "Requirement already satisfied: pydantic-core==2.18.2 in /usr/local/lib/python3.10/dist-packages (from pydantic<3,>=1.9.0->anthropic) (2.18.2)\n",
            "Requirement already satisfied: huggingface-hub<1.0,>=0.16.4 in /usr/local/lib/python3.10/dist-packages (from tokenizers>=0.13.0->anthropic) (0.23.1)\n",
            "Requirement already satisfied: filelock in /usr/local/lib/python3.10/dist-packages (from huggingface-hub<1.0,>=0.16.4->tokenizers>=0.13.0->anthropic) (3.14.0)\n",
            "Requirement already satisfied: fsspec>=2023.5.0 in /usr/local/lib/python3.10/dist-packages (from huggingface-hub<1.0,>=0.16.4->tokenizers>=0.13.0->anthropic) (2023.6.0)\n",
            "Requirement already satisfied: packaging>=20.9 in /usr/local/lib/python3.10/dist-packages (from huggingface-hub<1.0,>=0.16.4->tokenizers>=0.13.0->anthropic) (24.0)\n",
            "Requirement already satisfied: pyyaml>=5.1 in /usr/local/lib/python3.10/dist-packages (from huggingface-hub<1.0,>=0.16.4->tokenizers>=0.13.0->anthropic) (6.0.1)\n",
            "Requirement already satisfied: requests in /usr/local/lib/python3.10/dist-packages (from huggingface-hub<1.0,>=0.16.4->tokenizers>=0.13.0->anthropic) (2.31.0)\n",
            "Requirement already satisfied: tqdm>=4.42.1 in /usr/local/lib/python3.10/dist-packages (from huggingface-hub<1.0,>=0.16.4->tokenizers>=0.13.0->anthropic) (4.66.4)\n",
            "Requirement already satisfied: charset-normalizer<4,>=2 in /usr/local/lib/python3.10/dist-packages (from requests->huggingface-hub<1.0,>=0.16.4->tokenizers>=0.13.0->anthropic) (3.3.2)\n",
            "Requirement already satisfied: urllib3<3,>=1.21.1 in /usr/local/lib/python3.10/dist-packages (from requests->huggingface-hub<1.0,>=0.16.4->tokenizers>=0.13.0->anthropic) (2.0.7)\n"
          ]
        }
      ],
      "source": [
        "!pip install datasets"
      ]
    },
    {
      "cell_type": "code",
      "execution_count": null,
      "id": "9c8b6886",
      "metadata": {
        "id": "9c8b6886"
      },
      "outputs": [],
      "source": [
        "import pandas as pd\n",
        "from datasets import load_dataset\n",
        "import openai\n",
        "import string\n",
        "import re\n",
        "import anthropic"
      ]
    },
    {
      "cell_type": "code",
      "source": [
        "client = anthropic.Anthropic(\n",
        "    api_key=\"\",\n",
        ")"
      ],
      "metadata": {
        "id": "S54JKjTMA9z0"
      },
      "id": "S54JKjTMA9z0",
      "execution_count": null,
      "outputs": []
    },
    {
      "cell_type": "code",
      "source": [
        "# syntreat=pd.read_csv('/content/AROMA/TimeRate_Synthetic_Qs.csv_400.csv')\n",
        "# syntreat=pd.read_csv('/content/AROMA/Rate_Change_Synthetic_Qs_400.csv')\n",
        "# syntreat=pd.read_csv('/content/AROMA/Temporal_Qs_400.csv')\n",
        "# syntreat=pd.read_csv('/content/AROMA/Unit_Conversion_Qs_400.csv')\n",
        "\n",
        "\n"
      ],
      "metadata": {
        "id": "DJkOIG-9yyid"
      },
      "id": "DJkOIG-9yyid",
      "execution_count": null,
      "outputs": []
    },
    {
      "cell_type": "code",
      "source": [
        "data=syntreat"
      ],
      "metadata": {
        "id": "Ewajzzszzd4Q"
      },
      "id": "Ewajzzszzd4Q",
      "execution_count": null,
      "outputs": []
    },
    {
      "cell_type": "code",
      "source": [
        "data['label'] = data['Answer'].apply(lambda response: response.split('####')[-1].strip() if '####' in response else '')\n"
      ],
      "metadata": {
        "id": "oVueYynm0E58"
      },
      "id": "oVueYynm0E58",
      "execution_count": null,
      "outputs": []
    },
    {
      "cell_type": "code",
      "source": [
        "data.rename(columns={'Question': 'question'}, inplace=True)\n",
        "test_data=data[['question', 'label']]"
      ],
      "metadata": {
        "id": "TWAf53AXz7yP"
      },
      "id": "TWAf53AXz7yP",
      "execution_count": null,
      "outputs": []
    },
    {
      "cell_type": "code",
      "source": [
        "test_data = test_data[test_data['label'].apply(lambda x: str(x).isdigit())]"
      ],
      "metadata": {
        "id": "KeEr6_000ujM"
      },
      "id": "KeEr6_000ujM",
      "execution_count": null,
      "outputs": []
    },
    {
      "cell_type": "code",
      "execution_count": null,
      "id": "ec26f5ff",
      "metadata": {
        "id": "ec26f5ff"
      },
      "outputs": [],
      "source": [
        "test_data=test_data[:371]"
      ]
    },
    {
      "cell_type": "code",
      "execution_count": null,
      "id": "f20645f1",
      "metadata": {
        "id": "f20645f1",
        "collapsed": true
      },
      "outputs": [],
      "source": [
        "class OpenAIChat:\n",
        "    def __init__(self, model=\"claude-instant-1.2\"):\n",
        "    # def __init__(self, model=\"claude-2.0\"):\n",
        "    # def __init__(self, model=\"claude-2.1\"):\n",
        "    # def __init__(self, model=\"claude-3-haiku-20240307\"):\n",
        "        self.model = model\n",
        "\n",
        "    def ask_openai(self, prompt_text):\n",
        "        \"\"\"Send a prompt to the OpenAI Chat API and return the response.\"\"\"\n",
        "        try:\n",
        "            response = client.messages.create(\n",
        "                model=self.model,\n",
        "                messages=[\n",
        "                    {\"role\": \"user\", \"content\": prompt_text}\n",
        "                ],\n",
        "                temperature=1,\n",
        "                max_tokens=1000,\n",
        "                top_p=1,\n",
        "\n",
        "            )\n",
        "            if response.content and len(response.content) > 0:\n",
        "                content_text = response.content[0].text.strip()\n",
        "                return content_text\n",
        "            else:\n",
        "                print(\"No content found in response.\")\n",
        "                return None\n",
        "\n",
        "        except Exception as e:\n",
        "            print(f\"An error occurred: {e}\")\n",
        "            return None\n",
        "\n",
        "    def create_prompt(self, question):\n",
        "        return (f\"Your task is to consider the problem presented below and provide a detailed explanation of your \"\n",
        "                \"reasoning process, step by step. At the end of your explanation, you must clearly indicate the final \"\n",
        "                \"numerical answer. Round your answers to the nearest whole number.\"\n",
        "                \"To do this, use the phrase 'Answer:' followed directly by the numerical answer, \"\n",
        "                \"with no spaces in between. Ensure that the numerical answer is the only content following 'Answer:'. \"\n",
        "                \"Do not enclose the answer within any symbols or brackets, and avoid including any additional text or \"\n",
        "                \"characters after the answer.\"\n",
        "                \"Here is the problem for you to solve:\\n\\n\"\n",
        "                f\"Question: {question}\")\n",
        "\n",
        "\n",
        "    def extract_numerical_answer(self, response):\n",
        "        \"\"\"Extract a numerical answer from the response, considering spaces and units.\"\"\"\n",
        "        pattern = r'Answer:\\s*(\\$|€|£)?\\s*([\\d,]+(?:\\.\\d+)?)\\s*([a-zA-Z%$]+)?'\n",
        "        match = re.search(pattern, response)\n",
        "        if match:\n",
        "            currency_symbol = match.group(1) if match.group(1) else \"\"\n",
        "            number = match.group(2).replace(',', '')  # Remove commas from the number\n",
        "            unit = match.group(3) if match.group(3) else \"\"\n",
        "            answer = f\"{currency_symbol}{number}{unit}\".strip()\n",
        "            return answer\n",
        "        else:\n",
        "            return \"Answer not found or not in expected format.\"\n",
        "\n",
        "    def ensure_same_type(self, model_answer, true_answer):\n",
        "        \"\"\"Ensure model answer and true answer are of the same type for comparison,\n",
        "        handling currency symbols and units.\"\"\"\n",
        "\n",
        "        # Function to sanitize and convert answer to float if possible\n",
        "        def convert_to_number(answer):\n",
        "            # Remove currency symbols (and potentially other non-numeric characters except period and minus sign)\n",
        "            sanitized_answer = re.sub(r'[^\\d.-]', '', answer)\n",
        "            try:\n",
        "                # Attempt to convert to float\n",
        "                return float(sanitized_answer)\n",
        "            except ValueError:\n",
        "                return None\n",
        "\n",
        "        model_answer_num = convert_to_number(model_answer)\n",
        "        true_answer_num = convert_to_number(true_answer)\n",
        "\n",
        "        # Check if either answer could not be converted to float\n",
        "        if model_answer_num is None or true_answer_num is None:\n",
        "            print(f\"Conversion error: could not convert to number. Model: {model_answer}, True: {true_answer}\")\n",
        "            return None, None\n",
        "\n",
        "        # Optionally, convert to int if the number is a whole number\n",
        "        if model_answer_num.is_integer() and true_answer_num.is_integer():\n",
        "            return int(model_answer_num), int(true_answer_num)\n",
        "\n",
        "        return model_answer_num, true_answer_num\n",
        "\n",
        "    def evaluate_answer(self, question, true_answer):\n",
        "        detailed_prompt = self.create_prompt(question)\n",
        "        print('detailed_prompt', detailed_prompt)\n",
        "        model_answer = \"Answer not found or not in expected format.\"\n",
        "        retry_count = 0  # Initialize a counter for retries\n",
        "\n",
        "        while model_answer == \"Answer not found or not in expected format.\" and retry_count < 10:\n",
        "            response = self.ask_openai(detailed_prompt)\n",
        "            print('response', response)\n",
        "            if response:\n",
        "                # Try to extract the numerical answer from the response\n",
        "                temp_model_answer = self.extract_numerical_answer(response)\n",
        "\n",
        "                if temp_model_answer != \"Answer not found or not in expected format.\":\n",
        "                    model_answer = temp_model_answer  # Update model_answer with the newly extracted value\n",
        "                else:\n",
        "                    # If the extracted answer is not in the correct format, loop will continue\n",
        "                    print(\"Retrying due to incorrect format...\")\n",
        "                    retry_count += 1\n",
        "            else:\n",
        "                return {\n",
        "                    \"question\": question,\n",
        "                    \"error\": \"Failed to get response from OpenAI.\"\n",
        "                }\n",
        "            # Check if we've exceeded the retry limit\n",
        "        if retry_count >= 10:\n",
        "            print(\"Reached maximum retry attempts. Moving to the next question.\")\n",
        "            return {\n",
        "                \"question\": question,\n",
        "                \"error\": \"Answer not found or not in expected format after retries.\"\n",
        "            }\n",
        "\n",
        "        # Once a valid model_answer is obtained, proceed with type checking and comparison\n",
        "        model_answer, true_answer = self.ensure_same_type(model_answer, str(true_answer))\n",
        "        is_correct = model_answer == true_answer\n",
        "        print('model_answer', model_answer)\n",
        "        print('true_answer', true_answer)\n",
        "        print('is_correct', is_correct)\n",
        "        return {\n",
        "            \"question\": question,\n",
        "            \"model_answer\": model_answer,\n",
        "            \"true_answer\": true_answer,\n",
        "            \"is_correct\": is_correct,\n",
        "            \"response\": response\n",
        "        }\n",
        "\n",
        "def evaluate_dataset(model_evaluator, dataset):\n",
        "    results = []\n",
        "    for index, row in dataset.iterrows():\n",
        "        question = row['question']\n",
        "        true_answer = row['label']\n",
        "\n",
        "        result = model_evaluator.evaluate_answer(question, true_answer)\n",
        "        results.append(result)\n",
        "\n",
        "        # Optionally, print interim results every 100 iterations\n",
        "        if (index + 1) % 100 == 0:\n",
        "            print(f'Interim evaluation completed for {index + 1} entries.')\n",
        "\n",
        "    print('Evaluation completed for all entries.')\n",
        "    return results\n",
        "\n",
        "chat_evaluator = OpenAIChat()\n",
        "\n",
        "# Assuming `test_data` is your dataset for testing\n",
        "evaluation_results = evaluate_dataset(chat_evaluator, test_data)\n"
      ]
    },
    {
      "cell_type": "code",
      "execution_count": null,
      "id": "d56795c9",
      "metadata": {
        "id": "d56795c9"
      },
      "outputs": [],
      "source": [
        "evaluation_df = pd.DataFrame(evaluation_results)"
      ]
    },
    {
      "cell_type": "code",
      "execution_count": null,
      "id": "33ae79bf",
      "metadata": {
        "colab": {
          "base_uri": "https://localhost:8080/"
        },
        "id": "33ae79bf",
        "outputId": "eb3f261d-3d94-41b5-8141-95335f1a932b"
      },
      "outputs": [
        {
          "output_type": "stream",
          "name": "stdout",
          "text": [
            "is_correct\n",
            "True     113\n",
            "False     77\n",
            "Name: count, dtype: int64\n"
          ]
        }
      ],
      "source": [
        "is_correct_counts = evaluation_df['is_correct'].value_counts()\n",
        "\n",
        "# Print the value counts\n",
        "print(is_correct_counts)"
      ]
    },
    {
      "cell_type": "code",
      "source": [],
      "metadata": {
        "id": "n3qX51annYdi"
      },
      "id": "n3qX51annYdi",
      "execution_count": null,
      "outputs": []
    }
  ],
  "metadata": {
    "kernelspec": {
      "display_name": "Python 3 (ipykernel)",
      "language": "python",
      "name": "python3"
    },
    "language_info": {
      "codemirror_mode": {
        "name": "ipython",
        "version": 3
      },
      "file_extension": ".py",
      "mimetype": "text/x-python",
      "name": "python",
      "nbconvert_exporter": "python",
      "pygments_lexer": "ipython3",
      "version": "3.11.5"
    },
    "colab": {
      "provenance": []
    }
  },
  "nbformat": 4,
  "nbformat_minor": 5
}